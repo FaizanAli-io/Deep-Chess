{
 "cells": [
  {
   "cell_type": "code",
   "execution_count": 1,
   "metadata": {},
   "outputs": [],
   "source": [
    "from chess_functions import generate_random_games\n",
    "from tensorflow.keras import models, layers"
   ]
  },
  {
   "cell_type": "code",
   "execution_count": 17,
   "metadata": {},
   "outputs": [],
   "source": [
    "model = models.Sequential([\n",
    "    layers.InputLayer(input_shape = (14, 8, 8)),\n",
    "    layers.Flatten(),\n",
    "    \n",
    "    layers.Dense(256, activation = \"relu\"), \n",
    "    #layers.Dropout(0.25),\n",
    "    \n",
    "    layers.Dense(64, activation = \"relu\"), \n",
    "    #layers.Dropout(0.25),\n",
    "    \n",
    "    #layers.Dense(64, activation = \"relu\"), \n",
    "    #layers.Dropout(0.25),\n",
    "    \n",
    "    #layers.Dense(64, activation = \"relu\"), \n",
    "    #layers.Dropout(0.25),\n",
    "    \n",
    "    layers.Dense(1, activation = \"sigmoid\")\n",
    "])\n",
    "\n",
    "model.compile(optimizer = \"adam\", loss = \"mean_squared_error\")\n",
    "\n",
    "#model.summary()"
   ]
  },
  {
   "cell_type": "code",
   "execution_count": 18,
   "metadata": {
    "scrolled": true
   },
   "outputs": [
    {
     "name": "stdout",
     "output_type": "stream",
     "text": [
      "Epoch 1/10\n",
      "2557/2557 [==============================] - 12s 4ms/step - loss: 0.0059 - val_loss: 0.0062\n",
      "Epoch 2/10\n",
      "2557/2557 [==============================] - 11s 4ms/step - loss: 0.0037 - val_loss: 0.0058\n",
      "Epoch 3/10\n",
      "2557/2557 [==============================] - 11s 4ms/step - loss: 0.0031 - val_loss: 0.0063\n",
      "Epoch 4/10\n",
      "2557/2557 [==============================] - 11s 4ms/step - loss: 0.0027 - val_loss: 0.0062\n",
      "Epoch 5/10\n",
      "2557/2557 [==============================] - 11s 4ms/step - loss: 0.0024 - val_loss: 0.0058\n",
      "Epoch 6/10\n",
      "2557/2557 [==============================] - 11s 4ms/step - loss: 0.0022 - val_loss: 0.0057\n",
      "Epoch 7/10\n",
      "2557/2557 [==============================] - 11s 4ms/step - loss: 0.0020 - val_loss: 0.0061\n",
      "Epoch 8/10\n",
      "2557/2557 [==============================] - 11s 4ms/step - loss: 0.0018 - val_loss: 0.0057\n",
      "Epoch 9/10\n",
      "2557/2557 [==============================] - 11s 4ms/step - loss: 0.0016 - val_loss: 0.0061\n",
      "Epoch 10/10\n",
      "2557/2557 [==============================] - 11s 4ms/step - loss: 0.0015 - val_loss: 0.0060\n"
     ]
    },
    {
     "data": {
      "text/plain": [
       "<tensorflow.python.keras.callbacks.History at 0x2a805f21b20>"
      ]
     },
     "execution_count": 18,
     "metadata": {},
     "output_type": "execute_result"
    }
   ],
   "source": [
    "model.fit(x_train, y_train, epochs = 10, validation_split = 0.05)"
   ]
  },
  {
   "cell_type": "code",
   "execution_count": 19,
   "metadata": {},
   "outputs": [],
   "source": [
    "model.save(\"models/ff256+64\", save_format = \"h5\")"
   ]
  },
  {
   "cell_type": "code",
   "execution_count": 3,
   "metadata": {},
   "outputs": [
    {
     "name": "stdout",
     "output_type": "stream",
     "text": [
      "100.0% done\n"
     ]
    }
   ],
   "source": [
    "x_train, y_train = generate_random_games(256, 0)"
   ]
  }
 ],
 "metadata": {
  "kernelspec": {
   "display_name": "Python 3",
   "language": "python",
   "name": "python3"
  },
  "language_info": {
   "codemirror_mode": {
    "name": "ipython",
    "version": 3
   },
   "file_extension": ".py",
   "mimetype": "text/x-python",
   "name": "python",
   "nbconvert_exporter": "python",
   "pygments_lexer": "ipython3",
   "version": "3.9.5"
  }
 },
 "nbformat": 4,
 "nbformat_minor": 4
}
